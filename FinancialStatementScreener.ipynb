{
  "nbformat": 4,
  "nbformat_minor": 0,
  "metadata": {
    "colab": {
      "name": "yfinance.ipynb",
      "provenance": [],
      "collapsed_sections": []
    },
    "kernelspec": {
      "name": "python3",
      "display_name": "Python 3"
    },
    "language_info": {
      "name": "python"
    },
    "accelerator": "GPU"
  },
  "cells": [
    {
      "cell_type": "code",
      "metadata": {
        "collapsed": true,
        "id": "LsKrkOrOEAyX"
      },
      "source": [
        "!pip install yfinance"
      ],
      "execution_count": null,
      "outputs": []
    },
    {
      "cell_type": "code",
      "metadata": {
        "id": "ACYp_qNAYQne"
      },
      "source": [
        "import yfinance as yf\n",
        "import pandas as pd\n",
        "import math\n",
        "import csv\n",
        "import statistics\n",
        "import multiprocessing \n",
        "from multiprocessing import Pool\n",
        "from collections import OrderedDict"
      ],
      "execution_count": 2,
      "outputs": []
    },
    {
      "cell_type": "code",
      "metadata": {
        "id": "tMu3uOgngg6O"
      },
      "source": [
        "snp500 = pd.read_html('https://en.wikipedia.org/wiki/List_of_S%26P_500_companies')[0]\n",
        "symbols = list(snp500.Symbol)"
      ],
      "execution_count": 3,
      "outputs": []
    },
    {
      "cell_type": "code",
      "metadata": {
        "id": "09b9cqfhcYfo",
        "colab": {
          "base_uri": "https://localhost:8080/"
        },
        "outputId": "0888ee7c-64d0-4e10-c50b-ecd7b79244e4"
      },
      "source": [
        "def appendGrowth(lst):\n",
        "    \n",
        "    output = []\n",
        "    \n",
        "    for x in range(len(lst) - 1):\n",
        "        \n",
        "        try:\n",
        "            diff = lst[x] - lst[x + 1]\n",
        "            \n",
        "            #if diff > 0:\n",
        "            output.append(round((lst[x] - lst[x + 1]) / abs(lst[x + 1]) * 100, 2))\n",
        "            #else:\n",
        "            #    output.append(round((lst[x] - lst[x + 1]) / lst[x + 1] * 100, 2))\n",
        "                \n",
        "        except:\n",
        "            continue\n",
        "            \n",
        "    return output\n",
        "\n",
        "\n",
        "def getAvg(lst):\n",
        "    \n",
        "    summ = 0\n",
        "    nums = 0\n",
        "    \n",
        "    for num in lst:\n",
        "        if num != 0.0:\n",
        "            summ += num\n",
        "            nums += 1\n",
        "    \n",
        "    try:\n",
        "        return round(summ / nums, 2)\n",
        "    except:\n",
        "        return 0 \n",
        "\n",
        "\n",
        "def normalize(vals):\n",
        "\n",
        "    tmp =  [vals[0], vals[1], vals[2]]\n",
        "\n",
        "    med = statistics.median(tmp)\n",
        "\n",
        "    if sum(tmp) != 0:\n",
        "\n",
        "        normed = [i / sum(tmp) for i in tmp]\n",
        "\n",
        "        for i, num in enumerate(normed):\n",
        "\n",
        "            if num > 0.70:\n",
        "                tmp[i] = med * 1.5\n",
        "\n",
        "\n",
        "    return tmp\n",
        "\n",
        "\n",
        "def getPricePerformance(symbol, period):\n",
        "\n",
        "    stock = yf.Ticker(symbol)\n",
        "    x = stock.history(period=period)\n",
        "    last = x.iloc[0]['Close']\n",
        "    curr = x.iloc[-1]['Close']\n",
        "\n",
        "    percentDiff = round((curr - last) / abs(last) * 100, 2)\n",
        "\n",
        "    if math.isnan(percentDiff): return 0\n",
        "    \n",
        "    return percentDiff\n",
        "\n",
        "\n",
        "print(appendGrowth([100, -300, -200, 20]))"
      ],
      "execution_count": 4,
      "outputs": [
        {
          "output_type": "stream",
          "text": [
            "[133.33, -50.0, -1100.0]\n"
          ],
          "name": "stdout"
        }
      ]
    },
    {
      "cell_type": "code",
      "metadata": {
        "id": "7KfPKhc4ci4m"
      },
      "source": [
        "def getCashFlowScore(symbol):\n",
        "\n",
        "    stockScores = []\n",
        "\n",
        "    operCash = []\n",
        "    capex = []\n",
        "    fcf = []\n",
        "    investments = []\n",
        "\n",
        "    score = 0\n",
        "    investmentsAvgGrowth = 0\n",
        "    operCashAvgGrowth = 0\n",
        "    fcfAvgGrowth = 0\n",
        "    stock = ''\n",
        "    \n",
        "    stockVals = []\n",
        "\n",
        "\n",
        "    try:\n",
        "\n",
        "        stock = yf.Ticker(symbol)\n",
        "\n",
        "        print(symbol)\n",
        "\n",
        "        for i, x in enumerate(list(stock.cashflow.itertuples())):\n",
        "            \n",
        "            if x[0] == 'Investments':\n",
        "                for num in list(x)[1:]: investments.append(num)\n",
        "\n",
        "            if x[0] == 'Total Cash From Operating Activities':\n",
        "                for num in list(x)[1:]: operCash.append(num)\n",
        "\n",
        "            if x[0] == 'Capital Expenditures':\n",
        "                for num in list(x)[1:]: capex.append(num)\n",
        "\n",
        "\n",
        "        for x, y in zip(operCash, capex):\n",
        "\n",
        "            fcf.append(x - y)\n",
        "\n",
        "\n",
        "        investmentsGrowth = appendGrowth(investments)\n",
        "        operCashGrowth = appendGrowth(operCash)\n",
        "        fcfGrowth = appendGrowth(fcf)\n",
        "\n",
        "        investmentsAvgGrowth = getAvg(investmentsGrowth)\n",
        "        operCashAvgGrowth = getAvg(operCashGrowth)\n",
        "        fcfAvgGrowth = getAvg(fcfGrowth)\n",
        "\n",
        "\n",
        "        stockVals = [investmentsAvgGrowth, operCashAvgGrowth, fcfAvgGrowth]\n",
        "\n",
        "    except:\n",
        "        print(symbol, 'err')\n",
        "\n",
        "\n",
        "    if any([math.isnan(x) for x in stockVals]):\n",
        "        \n",
        "        return [symbol, 0, 0, 0, 0]\n",
        "    \n",
        "    else:\n",
        "\n",
        "        tmp = normalize([investmentsAvgGrowth, operCashAvgGrowth, fcfAvgGrowth])\n",
        "        \n",
        "        investmentsAvgGrowth = tmp[0]\n",
        "        operCashAvgGrowth = tmp[1]\n",
        "        fcfAvgGrowth = tmp[2]\n",
        "\n",
        "        score = investmentsAvgGrowth + operCashAvgGrowth + (fcfAvgGrowth * 2) \n",
        "\n",
        "        stockScores = [symbol, round(score, 2), investmentsAvgGrowth, operCashAvgGrowth, fcfAvgGrowth]\n",
        "\n",
        "        return stockScores\n"
      ],
      "execution_count": 5,
      "outputs": []
    },
    {
      "cell_type": "code",
      "metadata": {
        "colab": {
          "base_uri": "https://localhost:8080/"
        },
        "id": "jDdbWvwf0miY",
        "outputId": "7ad3a678-240e-4d41-b8fd-efa740834808"
      },
      "source": [
        "print(normalize([5000 ,-59.92, 10.45]))"
      ],
      "execution_count": 6,
      "outputs": [
        {
          "output_type": "stream",
          "text": [
            "[15.674999999999999, -59.92, 10.45]\n"
          ],
          "name": "stdout"
        }
      ]
    },
    {
      "cell_type": "code",
      "metadata": {
        "colab": {
          "base_uri": "https://localhost:8080/"
        },
        "id": "WyLA_VnhdJ94",
        "outputId": "02ecc48f-490d-4cfe-aac0-501648cb880b"
      },
      "source": [
        "def getIncomeStatementScore(symbol):\n",
        "\n",
        "    stockScores = []\n",
        "\n",
        "    netIncome = []\n",
        "    revenues = []\n",
        "    opIncome = []\n",
        "    grossProfit = []\n",
        "\n",
        "    grossMargin = []\n",
        "    opMargin = []\n",
        "    netMargin = []\n",
        "\n",
        "    score = 0\n",
        "    stock = ''\n",
        "\n",
        "\n",
        "    stock = yf.Ticker(symbol)\n",
        "\n",
        "\n",
        "    for i, x in enumerate(list(stock.financials.itertuples())):\n",
        "\n",
        "        if x[0] == 'Net Income':\n",
        "            for num in list(x)[1:]: netIncome.append(num)\n",
        "\n",
        "        if x[0] == 'Total Revenue':\n",
        "            for num in list(x)[1:]: revenues.append(num)\n",
        "\n",
        "        if x[0] == 'Operating Income':\n",
        "            for num in list(x)[1:]: opIncome.append(num)\n",
        "\n",
        "        if x[0] == 'Gross Profit':\n",
        "            for num in list(x)[1:]: grossProfit.append(num)\n",
        "\n",
        "\n",
        "    for x, y in zip(grossProfit, revenues):\n",
        "\n",
        "        grossMargin.append(round(x / y * 100, 2))\n",
        "\n",
        "    for x, y in zip(opIncome, revenues):\n",
        "\n",
        "        opMargin.append(round(x / y * 100, 2))\n",
        "\n",
        "    for x, y in zip(netIncome, revenues):\n",
        "\n",
        "        netMargin.append(round(x / y * 100, 2))\n",
        "\n",
        "\n",
        "    grossMarginGrowth = appendGrowth(grossMargin)\n",
        "    opMarginGrowth = appendGrowth(opMargin)\n",
        "    netMarginGrowth = appendGrowth(netMargin)\n",
        "\n",
        "    grossMarginAvgGrowth = getAvg(grossMarginGrowth)\n",
        "    opMarginAvgGrowth = getAvg(opMarginGrowth)\n",
        "    netMarginAvgGrowth = getAvg(netMarginGrowth)\n",
        "\n",
        "    stockVals = [grossMarginAvgGrowth, opMarginAvgGrowth, netMarginAvgGrowth]\n",
        "\n",
        "    if any([math.isnan(x) for x in stockVals]):\n",
        "        \n",
        "        return [symbol, 0, 0, 0, 0]\n",
        "        \n",
        "    else:\n",
        "\n",
        "        tmp = normalize([grossMarginAvgGrowth, opMarginAvgGrowth, netMarginAvgGrowth])\n",
        "        \n",
        "        '''\n",
        "        print(grossMargin)\n",
        "        print(opMargin)\n",
        "        print(netMargin)\n",
        "\n",
        "        print()\n",
        "        print(grossMarginAvgGrowth, grossMarginGrowth)\n",
        "        print(opMarginAvgGrowth, opMarginGrowth)\n",
        "        print(netMarginAvgGrowth, netMarginGrowth)\n",
        "        '''\n",
        "\n",
        "        grossMarginAvgGrowth = tmp[0]\n",
        "        opMarginAvgGrowth = tmp[1]\n",
        "        netMarginAvgGrowth = tmp[2]\n",
        "\n",
        "\n",
        "        score = (grossMarginAvgGrowth + opMarginAvgGrowth + netMarginAvgGrowth) * 5\n",
        "\n",
        "        return [symbol, round(score, 2), grossMarginAvgGrowth, opMarginAvgGrowth, netMarginAvgGrowth]\n",
        "\n",
        "\n",
        "getIncomeStatementScore('BA')"
      ],
      "execution_count": 7,
      "outputs": [
        {
          "output_type": "execute_result",
          "data": {
            "text/plain": [
              "['BA', -2666.78, -69.93, -185.37, -278.055]"
            ]
          },
          "metadata": {
            "tags": []
          },
          "execution_count": 7
        }
      ]
    },
    {
      "cell_type": "code",
      "metadata": {
        "colab": {
          "base_uri": "https://localhost:8080/"
        },
        "id": "I8DXCmr2CAVF",
        "outputId": "be016b96-33eb-4d08-f7ff-424e322d1de0"
      },
      "source": [
        "def getBalanceSheetScore(symbol):\n",
        "\n",
        "    stockScores = []\n",
        "\n",
        "    assets = []\n",
        "    liabilities = []\n",
        "    cash = []\n",
        "\n",
        "    score = 0\n",
        "    stock = ''\n",
        "\n",
        "    stock = yf.Ticker(symbol)\n",
        "\n",
        "    for i, x in enumerate(list(stock.balancesheet.itertuples())):\n",
        "\n",
        "        if x[0] ==  'Total Current Assets':\n",
        "            for num in list(x)[1:]: assets.append(num)\n",
        "\n",
        "        if x[0] == 'Total Current Liabilities':\n",
        "            for num in list(x)[1:]: liabilities.append(num)\n",
        "\n",
        "        if x[0] == 'Cash':\n",
        "            for num in list(x)[1:]: cash.append(num)\n",
        "\n",
        "\n",
        "\n",
        "    assetsGrowth = appendGrowth(assets)\n",
        "    liabGrowth = appendGrowth(liabilities)\n",
        "    cashGrowth = appendGrowth(cash)\n",
        "\n",
        "    assetsAvgGrowth = getAvg(assetsGrowth)\n",
        "    liabAvgGrowth = getAvg(liabGrowth)\n",
        "    cashAvgGrowth = getAvg(cashGrowth)\n",
        "\n",
        "\n",
        "    stockVals = [assetsAvgGrowth, liabAvgGrowth, cashAvgGrowth]\n",
        "\n",
        "    if any([math.isnan(x) for x in stockVals]):\n",
        "        \n",
        "        return [symbol, 0, 0, 0, 0]\n",
        "\n",
        "    else:\n",
        "\n",
        "        '''\n",
        "        print(assets)\n",
        "        print(liabilities)\n",
        "        print(cash)\n",
        "        print(assetsAvgGrowth, liabAvgGrowth, cashAvgGrowth)\n",
        "        '''\n",
        "\n",
        "\n",
        "        tmp = normalize([assetsAvgGrowth, liabAvgGrowth, cashAvgGrowth])\n",
        "\n",
        "        assetsAvgGrowth = tmp[0]\n",
        "        liabAvgGrowth = tmp[1]\n",
        "        cashAvgGrowth = tmp[2]\n",
        "\n",
        "        score = ((assetsAvgGrowth - liabAvgGrowth) * 5 + cashAvgGrowth) * 5\n",
        "\n",
        "        return [symbol, round(score, 2), assetsAvgGrowth, liabAvgGrowth, cashAvgGrowth]\n",
        "\n",
        "\n",
        "getBalanceSheetScore('BA')"
      ],
      "execution_count": 8,
      "outputs": [
        {
          "output_type": "execute_result",
          "data": {
            "text/plain": [
              "['BA', 63.77, 9.135, 6.09, -2.47]"
            ]
          },
          "metadata": {
            "tags": []
          },
          "execution_count": 8
        }
      ]
    },
    {
      "cell_type": "code",
      "metadata": {
        "id": "LJqJFuVUjbkc"
      },
      "source": [
        "def getStockScores(symbol):\n",
        "\n",
        "    stockScores = [] \n",
        "\n",
        "    cashFlowScores = getCashFlowScore(symbol)\n",
        "\n",
        "    incomeStatementScore = getIncomeStatementScore(symbol)\n",
        "\n",
        "    balanceSheetScore = getBalanceSheetScore(symbol)\n",
        "\n",
        "    combScore = round(cashFlowScores[1] + incomeStatementScore[1] + balanceSheetScore[1], 2)\n",
        "\n",
        "    oneYearPerf = 0 \n",
        "    twoYearPerf = 0\n",
        "    fiveYearPerf = 0\n",
        "\n",
        "    try:\n",
        "        oneYearPerf = getPricePerformance(symbol, '1y')\n",
        "        twoYearPerf = getPricePerformance(symbol, '2y')\n",
        "        fiveYearPerf = getPricePerformance(symbol, '5y')\n",
        "\n",
        "    except:\n",
        "        print(symbol, 'err')\n",
        "\n",
        "    return OrderedDict({'Symbol': symbol, 'CombScore': combScore, 'AvgInvestmentsGrowth': cashFlowScores[2], 'AvgOperatingCashGrowth': cashFlowScores[3], 'AvgFCFGrowth': cashFlowScores[4], \n",
        "                        'AvgGrossMarginGrowth': incomeStatementScore[2], 'AvgOpMarginGrowth': incomeStatementScore[3], 'AvgNetMarginGrowth': incomeStatementScore[4],\n",
        "                        'AvgAssetsGrowth': balanceSheetScore[2], 'AvgLiabGrowth': balanceSheetScore[3], 'AvgCashGrowth': balanceSheetScore[4], \n",
        "                        '1Y Performance': oneYearPerf, '2Y Performance': twoYearPerf, '5Y Performance': fiveYearPerf})"
      ],
      "execution_count": 9,
      "outputs": []
    },
    {
      "cell_type": "code",
      "metadata": {
        "id": "_C27ysc-jbm7"
      },
      "source": [
        "p = Pool(100)\n",
        "\n",
        "output = list(p.map(getStockScores, symbols))\n",
        "\n",
        "p.close()\n",
        "p.join()"
      ],
      "execution_count": null,
      "outputs": []
    },
    {
      "cell_type": "code",
      "metadata": {
        "id": "NDTARLifMutB"
      },
      "source": [
        "#output.sort(key = lambda l : l[0][1], reverse = True)\n",
        "output.sort(key = lambda l : l['CombScore'], reverse = True)\n",
        "output"
      ],
      "execution_count": null,
      "outputs": []
    },
    {
      "cell_type": "code",
      "metadata": {
        "id": "-Snmbnl7mLc-"
      },
      "source": [
        "def exportData(fileName):\n",
        "\n",
        "    MyFile = open(fileName, 'w')\n",
        "\n",
        "    header = \"Symbol, CombScore, AvgInvestmentsGrowth, AvgOperatingCashGrowth, AvgFCFGrowth, AvgGrossMarginGrowth, AvgOpMarginGrowth, AvgNetMarginGrowth, AvgAssetsGrowth, AvgLiabGrowth, AvgCashGrowth, 1Y Performance, 2Y Performance, 5Y Performance\\n\"\n",
        "\n",
        "    MyFile.write(header)\n",
        "\n",
        "    for row in output:\n",
        "\n",
        "        rowVals = []\n",
        "        stock = ''\n",
        "\n",
        "        for key, value in row.items():\n",
        "\n",
        "            rowVals.append(value)\n",
        "\n",
        "        print(rowVals)\n",
        "        MyFile.write(str(rowVals).replace('[', '').replace(']', '').replace(\"'\", ''))\n",
        "        MyFile.write('\\n')\n",
        "\n",
        "    \n",
        "    MyFile.close()\n",
        "\n",
        "    print('Saved as:', fileName)\n",
        "\n",
        "\n",
        "\n",
        "exportData('S&P500Scoresv2.csv')"
      ],
      "execution_count": null,
      "outputs": []
    },
    {
      "cell_type": "code",
      "metadata": {
        "id": "ypJfWdr41vFb"
      },
      "source": [
        ""
      ],
      "execution_count": 12,
      "outputs": []
    },
    {
      "cell_type": "code",
      "metadata": {
        "id": "sL0qV_7N1vIJ"
      },
      "source": [
        ""
      ],
      "execution_count": null,
      "outputs": []
    },
    {
      "cell_type": "code",
      "metadata": {
        "id": "lOAMmmGI1vKb"
      },
      "source": [
        ""
      ],
      "execution_count": null,
      "outputs": []
    }
  ]
}